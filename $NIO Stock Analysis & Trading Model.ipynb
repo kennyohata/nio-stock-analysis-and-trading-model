{
 "cells": [
  {
   "cell_type": "code",
   "execution_count": 1,
   "metadata": {},
   "outputs": [],
   "source": [
    "import pandas_datareader as pdr\n",
    "import datetime\n",
    "nio = pdr.get_data_yahoo('NIO', \n",
    "                          start = datetime.datetime(2018, 9, 12),\n",
    "                         end = datetime.datetime(2020, 11, 7))"
   ]
  },
  {
   "cell_type": "code",
   "execution_count": 2,
   "metadata": {},
   "outputs": [
    {
     "data": {
      "text/html": [
       "<div>\n",
       "<style scoped>\n",
       "    .dataframe tbody tr th:only-of-type {\n",
       "        vertical-align: middle;\n",
       "    }\n",
       "\n",
       "    .dataframe tbody tr th {\n",
       "        vertical-align: top;\n",
       "    }\n",
       "\n",
       "    .dataframe thead th {\n",
       "        text-align: right;\n",
       "    }\n",
       "</style>\n",
       "<table border=\"1\" class=\"dataframe\">\n",
       "  <thead>\n",
       "    <tr style=\"text-align: right;\">\n",
       "      <th></th>\n",
       "      <th>High</th>\n",
       "      <th>Low</th>\n",
       "      <th>Open</th>\n",
       "      <th>Close</th>\n",
       "      <th>Volume</th>\n",
       "      <th>Adj Close</th>\n",
       "    </tr>\n",
       "    <tr>\n",
       "      <th>Date</th>\n",
       "      <th></th>\n",
       "      <th></th>\n",
       "      <th></th>\n",
       "      <th></th>\n",
       "      <th></th>\n",
       "      <th></th>\n",
       "    </tr>\n",
       "  </thead>\n",
       "  <tbody>\n",
       "    <tr>\n",
       "      <th>2018-09-12</th>\n",
       "      <td>6.93</td>\n",
       "      <td>5.35</td>\n",
       "      <td>6.00</td>\n",
       "      <td>6.60</td>\n",
       "      <td>66849000</td>\n",
       "      <td>6.60</td>\n",
       "    </tr>\n",
       "    <tr>\n",
       "      <th>2018-09-13</th>\n",
       "      <td>12.69</td>\n",
       "      <td>6.52</td>\n",
       "      <td>6.62</td>\n",
       "      <td>11.60</td>\n",
       "      <td>158346500</td>\n",
       "      <td>11.60</td>\n",
       "    </tr>\n",
       "    <tr>\n",
       "      <th>2018-09-14</th>\n",
       "      <td>13.80</td>\n",
       "      <td>9.22</td>\n",
       "      <td>12.66</td>\n",
       "      <td>9.90</td>\n",
       "      <td>172473600</td>\n",
       "      <td>9.90</td>\n",
       "    </tr>\n",
       "    <tr>\n",
       "      <th>2018-09-17</th>\n",
       "      <td>9.75</td>\n",
       "      <td>8.50</td>\n",
       "      <td>9.61</td>\n",
       "      <td>8.50</td>\n",
       "      <td>56323900</td>\n",
       "      <td>8.50</td>\n",
       "    </tr>\n",
       "    <tr>\n",
       "      <th>2018-09-18</th>\n",
       "      <td>9.10</td>\n",
       "      <td>7.67</td>\n",
       "      <td>8.73</td>\n",
       "      <td>7.68</td>\n",
       "      <td>41827600</td>\n",
       "      <td>7.68</td>\n",
       "    </tr>\n",
       "  </tbody>\n",
       "</table>\n",
       "</div>"
      ],
      "text/plain": [
       "             High   Low   Open  Close     Volume  Adj Close\n",
       "Date                                                       \n",
       "2018-09-12   6.93  5.35   6.00   6.60   66849000       6.60\n",
       "2018-09-13  12.69  6.52   6.62  11.60  158346500      11.60\n",
       "2018-09-14  13.80  9.22  12.66   9.90  172473600       9.90\n",
       "2018-09-17   9.75  8.50   9.61   8.50   56323900       8.50\n",
       "2018-09-18   9.10  7.67   8.73   7.68   41827600       7.68"
      ]
     },
     "execution_count": 2,
     "metadata": {},
     "output_type": "execute_result"
    }
   ],
   "source": [
    "nio.head(5)"
   ]
  },
  {
   "cell_type": "code",
   "execution_count": 3,
   "metadata": {},
   "outputs": [
    {
     "data": {
      "text/html": [
       "<div>\n",
       "<style scoped>\n",
       "    .dataframe tbody tr th:only-of-type {\n",
       "        vertical-align: middle;\n",
       "    }\n",
       "\n",
       "    .dataframe tbody tr th {\n",
       "        vertical-align: top;\n",
       "    }\n",
       "\n",
       "    .dataframe thead th {\n",
       "        text-align: right;\n",
       "    }\n",
       "</style>\n",
       "<table border=\"1\" class=\"dataframe\">\n",
       "  <thead>\n",
       "    <tr style=\"text-align: right;\">\n",
       "      <th></th>\n",
       "      <th>High</th>\n",
       "      <th>Low</th>\n",
       "      <th>Open</th>\n",
       "      <th>Close</th>\n",
       "      <th>Volume</th>\n",
       "      <th>Adj Close</th>\n",
       "    </tr>\n",
       "    <tr>\n",
       "      <th>Date</th>\n",
       "      <th></th>\n",
       "      <th></th>\n",
       "      <th></th>\n",
       "      <th></th>\n",
       "      <th></th>\n",
       "      <th></th>\n",
       "    </tr>\n",
       "  </thead>\n",
       "  <tbody>\n",
       "    <tr>\n",
       "      <th>2020-11-02</th>\n",
       "      <td>34.939999</td>\n",
       "      <td>31.680000</td>\n",
       "      <td>33.950001</td>\n",
       "      <td>33.320000</td>\n",
       "      <td>265719900</td>\n",
       "      <td>33.320000</td>\n",
       "    </tr>\n",
       "    <tr>\n",
       "      <th>2020-11-03</th>\n",
       "      <td>35.869999</td>\n",
       "      <td>32.779999</td>\n",
       "      <td>33.570000</td>\n",
       "      <td>35.500000</td>\n",
       "      <td>217608100</td>\n",
       "      <td>35.500000</td>\n",
       "    </tr>\n",
       "    <tr>\n",
       "      <th>2020-11-04</th>\n",
       "      <td>39.750000</td>\n",
       "      <td>35.820000</td>\n",
       "      <td>37.439999</td>\n",
       "      <td>37.709999</td>\n",
       "      <td>339385900</td>\n",
       "      <td>37.709999</td>\n",
       "    </tr>\n",
       "    <tr>\n",
       "      <th>2020-11-05</th>\n",
       "      <td>42.490002</td>\n",
       "      <td>38.250000</td>\n",
       "      <td>38.779999</td>\n",
       "      <td>42.349998</td>\n",
       "      <td>302472600</td>\n",
       "      <td>42.349998</td>\n",
       "    </tr>\n",
       "    <tr>\n",
       "      <th>2020-11-06</th>\n",
       "      <td>43.299999</td>\n",
       "      <td>40.049999</td>\n",
       "      <td>41.090000</td>\n",
       "      <td>41.630001</td>\n",
       "      <td>288240600</td>\n",
       "      <td>41.630001</td>\n",
       "    </tr>\n",
       "  </tbody>\n",
       "</table>\n",
       "</div>"
      ],
      "text/plain": [
       "                 High        Low       Open      Close     Volume  Adj Close\n",
       "Date                                                                        \n",
       "2020-11-02  34.939999  31.680000  33.950001  33.320000  265719900  33.320000\n",
       "2020-11-03  35.869999  32.779999  33.570000  35.500000  217608100  35.500000\n",
       "2020-11-04  39.750000  35.820000  37.439999  37.709999  339385900  37.709999\n",
       "2020-11-05  42.490002  38.250000  38.779999  42.349998  302472600  42.349998\n",
       "2020-11-06  43.299999  40.049999  41.090000  41.630001  288240600  41.630001"
      ]
     },
     "execution_count": 3,
     "metadata": {},
     "output_type": "execute_result"
    }
   ],
   "source": [
    "nio.tail(5)"
   ]
  },
  {
   "cell_type": "code",
   "execution_count": 4,
   "metadata": {},
   "outputs": [
    {
     "data": {
      "text/html": [
       "<div>\n",
       "<style scoped>\n",
       "    .dataframe tbody tr th:only-of-type {\n",
       "        vertical-align: middle;\n",
       "    }\n",
       "\n",
       "    .dataframe tbody tr th {\n",
       "        vertical-align: top;\n",
       "    }\n",
       "\n",
       "    .dataframe thead th {\n",
       "        text-align: right;\n",
       "    }\n",
       "</style>\n",
       "<table border=\"1\" class=\"dataframe\">\n",
       "  <thead>\n",
       "    <tr style=\"text-align: right;\">\n",
       "      <th></th>\n",
       "      <th>High</th>\n",
       "      <th>Low</th>\n",
       "      <th>Open</th>\n",
       "      <th>Close</th>\n",
       "      <th>Volume</th>\n",
       "      <th>Adj Close</th>\n",
       "    </tr>\n",
       "  </thead>\n",
       "  <tbody>\n",
       "    <tr>\n",
       "      <th>count</th>\n",
       "      <td>544.000000</td>\n",
       "      <td>544.000000</td>\n",
       "      <td>544.000000</td>\n",
       "      <td>544.000000</td>\n",
       "      <td>5.440000e+02</td>\n",
       "      <td>544.000000</td>\n",
       "    </tr>\n",
       "    <tr>\n",
       "      <th>mean</th>\n",
       "      <td>7.240790</td>\n",
       "      <td>6.686930</td>\n",
       "      <td>6.963585</td>\n",
       "      <td>6.980607</td>\n",
       "      <td>5.662456e+07</td>\n",
       "      <td>6.980607</td>\n",
       "    </tr>\n",
       "    <tr>\n",
       "      <th>std</th>\n",
       "      <td>6.621288</td>\n",
       "      <td>6.108946</td>\n",
       "      <td>6.331585</td>\n",
       "      <td>6.432081</td>\n",
       "      <td>6.790465e+07</td>\n",
       "      <td>6.432081</td>\n",
       "    </tr>\n",
       "    <tr>\n",
       "      <th>min</th>\n",
       "      <td>1.450000</td>\n",
       "      <td>1.190000</td>\n",
       "      <td>1.190000</td>\n",
       "      <td>1.320000</td>\n",
       "      <td>5.111000e+06</td>\n",
       "      <td>1.320000</td>\n",
       "    </tr>\n",
       "    <tr>\n",
       "      <th>25%</th>\n",
       "      <td>3.175000</td>\n",
       "      <td>2.997500</td>\n",
       "      <td>3.077500</td>\n",
       "      <td>3.087500</td>\n",
       "      <td>1.826788e+07</td>\n",
       "      <td>3.087500</td>\n",
       "    </tr>\n",
       "    <tr>\n",
       "      <th>50%</th>\n",
       "      <td>4.920000</td>\n",
       "      <td>4.590000</td>\n",
       "      <td>4.765000</td>\n",
       "      <td>4.765000</td>\n",
       "      <td>3.547515e+07</td>\n",
       "      <td>4.765000</td>\n",
       "    </tr>\n",
       "    <tr>\n",
       "      <th>75%</th>\n",
       "      <td>7.750000</td>\n",
       "      <td>7.260000</td>\n",
       "      <td>7.590000</td>\n",
       "      <td>7.482500</td>\n",
       "      <td>6.499420e+07</td>\n",
       "      <td>7.482500</td>\n",
       "    </tr>\n",
       "    <tr>\n",
       "      <th>max</th>\n",
       "      <td>43.299999</td>\n",
       "      <td>40.049999</td>\n",
       "      <td>41.090000</td>\n",
       "      <td>42.349998</td>\n",
       "      <td>5.709114e+08</td>\n",
       "      <td>42.349998</td>\n",
       "    </tr>\n",
       "  </tbody>\n",
       "</table>\n",
       "</div>"
      ],
      "text/plain": [
       "             High         Low        Open       Close        Volume  \\\n",
       "count  544.000000  544.000000  544.000000  544.000000  5.440000e+02   \n",
       "mean     7.240790    6.686930    6.963585    6.980607  5.662456e+07   \n",
       "std      6.621288    6.108946    6.331585    6.432081  6.790465e+07   \n",
       "min      1.450000    1.190000    1.190000    1.320000  5.111000e+06   \n",
       "25%      3.175000    2.997500    3.077500    3.087500  1.826788e+07   \n",
       "50%      4.920000    4.590000    4.765000    4.765000  3.547515e+07   \n",
       "75%      7.750000    7.260000    7.590000    7.482500  6.499420e+07   \n",
       "max     43.299999   40.049999   41.090000   42.349998  5.709114e+08   \n",
       "\n",
       "        Adj Close  \n",
       "count  544.000000  \n",
       "mean     6.980607  \n",
       "std      6.432081  \n",
       "min      1.320000  \n",
       "25%      3.087500  \n",
       "50%      4.765000  \n",
       "75%      7.482500  \n",
       "max     42.349998  "
      ]
     },
     "execution_count": 4,
     "metadata": {},
     "output_type": "execute_result"
    }
   ],
   "source": [
    "nio.describe()"
   ]
  },
  {
   "cell_type": "code",
   "execution_count": 5,
   "metadata": {},
   "outputs": [
    {
     "data": {
      "text/plain": [
       "<function matplotlib.pyplot.show(*args, **kw)>"
      ]
     },
     "execution_count": 5,
     "metadata": {},
     "output_type": "execute_result"
    },
    {
     "data": {
      "image/png": "[encoded data removed]",
      "text/plain": [
       "<Figure size 432x288 with 1 Axes>"
      ]
     },
     "metadata": {
      "needs_background": "light"
     },
     "output_type": "display_data"
    }
   ],
   "source": [
    "import matplotlib.pyplot as plt \n",
    "nio['Close'].plot(grid=True)\n",
    "plt.show"
   ]
  },
  {
   "cell_type": "code",
   "execution_count": 6,
   "metadata": {},
   "outputs": [],
   "source": [
    "import numpy as np \n",
    "daily_close = nio[['Adj Close']]\n",
    "daily_pct_change = daily_close.pct_change()"
   ]
  },
  {
   "cell_type": "code",
   "execution_count": 7,
   "metadata": {},
   "outputs": [
    {
     "name": "stdout",
     "output_type": "stream",
     "text": [
      "            Adj Close\n",
      "Date                 \n",
      "2018-09-12   0.000000\n",
      "2018-09-13   0.757576\n",
      "2018-09-14  -0.146552\n",
      "2018-09-17  -0.141414\n",
      "2018-09-18  -0.096471\n",
      "...               ...\n",
      "2020-11-02   0.089601\n",
      "2020-11-03   0.065426\n",
      "2020-11-04   0.062253\n",
      "2020-11-05   0.123044\n",
      "2020-11-06  -0.017001\n",
      "\n",
      "[544 rows x 1 columns]\n"
     ]
    }
   ],
   "source": [
    "daily_pct_change.fillna(0, inplace=True)\n",
    "print(daily_pct_change)"
   ]
  },
  {
   "cell_type": "code",
   "execution_count": 8,
   "metadata": {},
   "outputs": [],
   "source": [
    "daily_log_returns = np.log(daily_close.pct_change()+1)"
   ]
  },
  {
   "cell_type": "code",
   "execution_count": 9,
   "metadata": {},
   "outputs": [
    {
     "name": "stdout",
     "output_type": "stream",
     "text": [
      "            Adj Close\n",
      "Date                 \n",
      "2018-09-12        NaN\n",
      "2018-09-13   0.563935\n",
      "2018-09-14  -0.158470\n",
      "2018-09-17  -0.152469\n",
      "2018-09-18  -0.101447\n",
      "...               ...\n",
      "2020-11-02   0.085812\n",
      "2020-11-03   0.063375\n",
      "2020-11-04   0.060393\n",
      "2020-11-05   0.116043\n",
      "2020-11-06  -0.017147\n",
      "\n",
      "[544 rows x 1 columns]\n"
     ]
    }
   ],
   "source": [
    "print(daily_log_returns)"
   ]
  },
  {
   "cell_type": "code",
   "execution_count": 10,
   "metadata": {},
   "outputs": [],
   "source": [
    "monthly = nio.resample('BM').apply(lambda x: x[-1])"
   ]
  },
  {
   "cell_type": "code",
   "execution_count": 11,
   "metadata": {},
   "outputs": [
    {
     "data": {
      "text/html": [
       "<div>\n",
       "<style scoped>\n",
       "    .dataframe tbody tr th:only-of-type {\n",
       "        vertical-align: middle;\n",
       "    }\n",
       "\n",
       "    .dataframe tbody tr th {\n",
       "        vertical-align: top;\n",
       "    }\n",
       "\n",
       "    .dataframe thead th {\n",
       "        text-align: right;\n",
       "    }\n",
       "</style>\n",
       "<table border=\"1\" class=\"dataframe\">\n",
       "  <thead>\n",
       "    <tr style=\"text-align: right;\">\n",
       "      <th></th>\n",
       "      <th>High</th>\n",
       "      <th>Low</th>\n",
       "      <th>Open</th>\n",
       "      <th>Close</th>\n",
       "      <th>Volume</th>\n",
       "      <th>Adj Close</th>\n",
       "    </tr>\n",
       "    <tr>\n",
       "      <th>Date</th>\n",
       "      <th></th>\n",
       "      <th></th>\n",
       "      <th></th>\n",
       "      <th></th>\n",
       "      <th></th>\n",
       "      <th></th>\n",
       "    </tr>\n",
       "  </thead>\n",
       "  <tbody>\n",
       "    <tr>\n",
       "      <th>2018-09-28</th>\n",
       "      <td>NaN</td>\n",
       "      <td>NaN</td>\n",
       "      <td>NaN</td>\n",
       "      <td>NaN</td>\n",
       "      <td>NaN</td>\n",
       "      <td>NaN</td>\n",
       "    </tr>\n",
       "    <tr>\n",
       "      <th>2018-10-31</th>\n",
       "      <td>-0.141484</td>\n",
       "      <td>-0.116766</td>\n",
       "      <td>-0.127690</td>\n",
       "      <td>-0.154728</td>\n",
       "      <td>-0.302573</td>\n",
       "      <td>-0.154728</td>\n",
       "    </tr>\n",
       "    <tr>\n",
       "      <th>2018-11-30</th>\n",
       "      <td>0.280000</td>\n",
       "      <td>0.301695</td>\n",
       "      <td>0.282895</td>\n",
       "      <td>0.306780</td>\n",
       "      <td>-0.277302</td>\n",
       "      <td>0.306780</td>\n",
       "    </tr>\n",
       "    <tr>\n",
       "      <th>2018-12-31</th>\n",
       "      <td>-0.178750</td>\n",
       "      <td>-0.191406</td>\n",
       "      <td>-0.158974</td>\n",
       "      <td>-0.173800</td>\n",
       "      <td>-0.211675</td>\n",
       "      <td>-0.173800</td>\n",
       "    </tr>\n",
       "    <tr>\n",
       "      <th>2019-01-31</th>\n",
       "      <td>0.200913</td>\n",
       "      <td>0.191626</td>\n",
       "      <td>0.128049</td>\n",
       "      <td>0.237049</td>\n",
       "      <td>1.449858</td>\n",
       "      <td>0.237049</td>\n",
       "    </tr>\n",
       "    <tr>\n",
       "      <th>2019-02-28</th>\n",
       "      <td>0.258555</td>\n",
       "      <td>0.278378</td>\n",
       "      <td>0.331081</td>\n",
       "      <td>0.214467</td>\n",
       "      <td>0.248287</td>\n",
       "      <td>0.214467</td>\n",
       "    </tr>\n",
       "    <tr>\n",
       "      <th>2019-03-29</th>\n",
       "      <td>-0.483384</td>\n",
       "      <td>-0.468288</td>\n",
       "      <td>-0.486294</td>\n",
       "      <td>-0.467085</td>\n",
       "      <td>-0.109790</td>\n",
       "      <td>-0.467085</td>\n",
       "    </tr>\n",
       "    <tr>\n",
       "      <th>2019-04-30</th>\n",
       "      <td>-0.009747</td>\n",
       "      <td>-0.045726</td>\n",
       "      <td>-0.015810</td>\n",
       "      <td>-0.049020</td>\n",
       "      <td>-0.388258</td>\n",
       "      <td>-0.049020</td>\n",
       "    </tr>\n",
       "    <tr>\n",
       "      <th>2019-05-31</th>\n",
       "      <td>-0.379921</td>\n",
       "      <td>-0.375000</td>\n",
       "      <td>-0.383534</td>\n",
       "      <td>-0.371134</td>\n",
       "      <td>1.728396</td>\n",
       "      <td>-0.371134</td>\n",
       "    </tr>\n",
       "    <tr>\n",
       "      <th>2019-06-28</th>\n",
       "      <td>-0.165079</td>\n",
       "      <td>-0.163333</td>\n",
       "      <td>-0.153094</td>\n",
       "      <td>-0.163934</td>\n",
       "      <td>-0.552087</td>\n",
       "      <td>-0.163934</td>\n",
       "    </tr>\n",
       "    <tr>\n",
       "      <th>2019-07-31</th>\n",
       "      <td>0.342205</td>\n",
       "      <td>0.338645</td>\n",
       "      <td>0.300000</td>\n",
       "      <td>0.360784</td>\n",
       "      <td>0.129074</td>\n",
       "      <td>0.360784</td>\n",
       "    </tr>\n",
       "    <tr>\n",
       "      <th>2019-08-30</th>\n",
       "      <td>-0.175637</td>\n",
       "      <td>-0.154762</td>\n",
       "      <td>-0.142012</td>\n",
       "      <td>-0.175793</td>\n",
       "      <td>-0.590535</td>\n",
       "      <td>-0.175793</td>\n",
       "    </tr>\n",
       "    <tr>\n",
       "      <th>2019-09-30</th>\n",
       "      <td>-0.405498</td>\n",
       "      <td>-0.461268</td>\n",
       "      <td>-0.406897</td>\n",
       "      <td>-0.454545</td>\n",
       "      <td>6.211860</td>\n",
       "      <td>-0.454545</td>\n",
       "    </tr>\n",
       "    <tr>\n",
       "      <th>2019-10-31</th>\n",
       "      <td>-0.109827</td>\n",
       "      <td>-0.058823</td>\n",
       "      <td>-0.145349</td>\n",
       "      <td>-0.070513</td>\n",
       "      <td>-0.619472</td>\n",
       "      <td>-0.070513</td>\n",
       "    </tr>\n",
       "    <tr>\n",
       "      <th>2019-11-29</th>\n",
       "      <td>0.532468</td>\n",
       "      <td>0.527778</td>\n",
       "      <td>0.605442</td>\n",
       "      <td>0.565517</td>\n",
       "      <td>0.458393</td>\n",
       "      <td>0.565517</td>\n",
       "    </tr>\n",
       "    <tr>\n",
       "      <th>2019-12-31</th>\n",
       "      <td>0.872881</td>\n",
       "      <td>0.736364</td>\n",
       "      <td>0.758475</td>\n",
       "      <td>0.770925</td>\n",
       "      <td>5.587213</td>\n",
       "      <td>0.770925</td>\n",
       "    </tr>\n",
       "    <tr>\n",
       "      <th>2020-01-31</th>\n",
       "      <td>-0.085973</td>\n",
       "      <td>-0.039267</td>\n",
       "      <td>-0.031325</td>\n",
       "      <td>-0.059701</td>\n",
       "      <td>-0.637581</td>\n",
       "      <td>-0.059701</td>\n",
       "    </tr>\n",
       "    <tr>\n",
       "      <th>2020-02-28</th>\n",
       "      <td>0.024752</td>\n",
       "      <td>0.054496</td>\n",
       "      <td>-0.014925</td>\n",
       "      <td>0.092593</td>\n",
       "      <td>-0.181476</td>\n",
       "      <td>0.092593</td>\n",
       "    </tr>\n",
       "    <tr>\n",
       "      <th>2020-03-31</th>\n",
       "      <td>-0.304348</td>\n",
       "      <td>-0.307494</td>\n",
       "      <td>-0.285354</td>\n",
       "      <td>-0.326877</td>\n",
       "      <td>-0.525550</td>\n",
       "      <td>-0.326877</td>\n",
       "    </tr>\n",
       "    <tr>\n",
       "      <th>2020-04-30</th>\n",
       "      <td>0.291667</td>\n",
       "      <td>0.257463</td>\n",
       "      <td>0.282686</td>\n",
       "      <td>0.226619</td>\n",
       "      <td>0.471855</td>\n",
       "      <td>0.226619</td>\n",
       "    </tr>\n",
       "    <tr>\n",
       "      <th>2020-05-29</th>\n",
       "      <td>0.075269</td>\n",
       "      <td>0.106825</td>\n",
       "      <td>0.052342</td>\n",
       "      <td>0.167155</td>\n",
       "      <td>0.131454</td>\n",
       "      <td>0.167155</td>\n",
       "    </tr>\n",
       "    <tr>\n",
       "      <th>2020-06-30</th>\n",
       "      <td>0.937500</td>\n",
       "      <td>0.908847</td>\n",
       "      <td>0.887435</td>\n",
       "      <td>0.939698</td>\n",
       "      <td>0.676453</td>\n",
       "      <td>0.939698</td>\n",
       "    </tr>\n",
       "    <tr>\n",
       "      <th>2020-07-31</th>\n",
       "      <td>0.624516</td>\n",
       "      <td>0.647472</td>\n",
       "      <td>0.721220</td>\n",
       "      <td>0.546632</td>\n",
       "      <td>-0.268350</td>\n",
       "      <td>0.546632</td>\n",
       "    </tr>\n",
       "    <tr>\n",
       "      <th>2020-08-31</th>\n",
       "      <td>0.575060</td>\n",
       "      <td>0.433930</td>\n",
       "      <td>0.385173</td>\n",
       "      <td>0.593802</td>\n",
       "      <td>2.666024</td>\n",
       "      <td>0.593802</td>\n",
       "    </tr>\n",
       "    <tr>\n",
       "      <th>2020-09-30</th>\n",
       "      <td>0.139183</td>\n",
       "      <td>0.234245</td>\n",
       "      <td>0.263525</td>\n",
       "      <td>0.115081</td>\n",
       "      <td>-0.191051</td>\n",
       "      <td>0.115081</td>\n",
       "    </tr>\n",
       "    <tr>\n",
       "      <th>2020-10-30</th>\n",
       "      <td>0.398406</td>\n",
       "      <td>0.446532</td>\n",
       "      <td>0.445212</td>\n",
       "      <td>0.441093</td>\n",
       "      <td>-0.254801</td>\n",
       "      <td>0.441093</td>\n",
       "    </tr>\n",
       "    <tr>\n",
       "      <th>2020-11-30</th>\n",
       "      <td>0.370687</td>\n",
       "      <td>0.333666</td>\n",
       "      <td>0.309016</td>\n",
       "      <td>0.361347</td>\n",
       "      <td>1.109993</td>\n",
       "      <td>0.361347</td>\n",
       "    </tr>\n",
       "  </tbody>\n",
       "</table>\n",
       "</div>"
      ],
      "text/plain": [
       "                High       Low      Open     Close    Volume  Adj Close\n",
       "Date                                                                   \n",
       "2018-09-28       NaN       NaN       NaN       NaN       NaN        NaN\n",
       "2018-10-31 -0.141484 -0.116766 -0.127690 -0.154728 -0.302573  -0.154728\n",
       "2018-11-30  0.280000  0.301695  0.282895  0.306780 -0.277302   0.306780\n",
       "2018-12-31 -0.178750 -0.191406 -0.158974 -0.173800 -0.211675  -0.173800\n",
       "2019-01-31  0.200913  0.191626  0.128049  0.237049  1.449858   0.237049\n",
       "2019-02-28  0.258555  0.278378  0.331081  0.214467  0.248287   0.214467\n",
       "2019-03-29 -0.483384 -0.468288 -0.486294 -0.467085 -0.109790  -0.467085\n",
       "2019-04-30 -0.009747 -0.045726 -0.015810 -0.049020 -0.388258  -0.049020\n",
       "2019-05-31 -0.379921 -0.375000 -0.383534 -0.371134  1.728396  -0.371134\n",
       "2019-06-28 -0.165079 -0.163333 -0.153094 -0.163934 -0.552087  -0.163934\n",
       "2019-07-31  0.342205  0.338645  0.300000  0.360784  0.129074   0.360784\n",
       "2019-08-30 -0.175637 -0.154762 -0.142012 -0.175793 -0.590535  -0.175793\n",
       "2019-09-30 -0.405498 -0.461268 -0.406897 -0.454545  6.211860  -0.454545\n",
       "2019-10-31 -0.109827 -0.058823 -0.145349 -0.070513 -0.619472  -0.070513\n",
       "2019-11-29  0.532468  0.527778  0.605442  0.565517  0.458393   0.565517\n",
       "2019-12-31  0.872881  0.736364  0.758475  0.770925  5.587213   0.770925\n",
       "2020-01-31 -0.085973 -0.039267 -0.031325 -0.059701 -0.637581  -0.059701\n",
       "2020-02-28  0.024752  0.054496 -0.014925  0.092593 -0.181476   0.092593\n",
       "2020-03-31 -0.304348 -0.307494 -0.285354 -0.326877 -0.525550  -0.326877\n",
       "2020-04-30  0.291667  0.257463  0.282686  0.226619  0.471855   0.226619\n",
       "2020-05-29  0.075269  0.106825  0.052342  0.167155  0.131454   0.167155\n",
       "2020-06-30  0.937500  0.908847  0.887435  0.939698  0.676453   0.939698\n",
       "2020-07-31  0.624516  0.647472  0.721220  0.546632 -0.268350   0.546632\n",
       "2020-08-31  0.575060  0.433930  0.385173  0.593802  2.666024   0.593802\n",
       "2020-09-30  0.139183  0.234245  0.263525  0.115081 -0.191051   0.115081\n",
       "2020-10-30  0.398406  0.446532  0.445212  0.441093 -0.254801   0.441093\n",
       "2020-11-30  0.370687  0.333666  0.309016  0.361347  1.109993   0.361347"
      ]
     },
     "execution_count": 11,
     "metadata": {},
     "output_type": "execute_result"
    }
   ],
   "source": [
    "monthly.pct_change()"
   ]
  },
  {
   "cell_type": "code",
   "execution_count": 12,
   "metadata": {},
   "outputs": [],
   "source": [
    "quarter = nio.resample('4M').mean()"
   ]
  },
  {
   "cell_type": "code",
   "execution_count": 13,
   "metadata": {},
   "outputs": [
    {
     "data": {
      "text/html": [
       "<div>\n",
       "<style scoped>\n",
       "    .dataframe tbody tr th:only-of-type {\n",
       "        vertical-align: middle;\n",
       "    }\n",
       "\n",
       "    .dataframe tbody tr th {\n",
       "        vertical-align: top;\n",
       "    }\n",
       "\n",
       "    .dataframe thead th {\n",
       "        text-align: right;\n",
       "    }\n",
       "</style>\n",
       "<table border=\"1\" class=\"dataframe\">\n",
       "  <thead>\n",
       "    <tr style=\"text-align: right;\">\n",
       "      <th></th>\n",
       "      <th>High</th>\n",
       "      <th>Low</th>\n",
       "      <th>Open</th>\n",
       "      <th>Close</th>\n",
       "      <th>Volume</th>\n",
       "      <th>Adj Close</th>\n",
       "    </tr>\n",
       "    <tr>\n",
       "      <th>Date</th>\n",
       "      <th></th>\n",
       "      <th></th>\n",
       "      <th></th>\n",
       "      <th></th>\n",
       "      <th></th>\n",
       "      <th></th>\n",
       "    </tr>\n",
       "  </thead>\n",
       "  <tbody>\n",
       "    <tr>\n",
       "      <th>2018-09-30</th>\n",
       "      <td>NaN</td>\n",
       "      <td>NaN</td>\n",
       "      <td>NaN</td>\n",
       "      <td>NaN</td>\n",
       "      <td>NaN</td>\n",
       "      <td>NaN</td>\n",
       "    </tr>\n",
       "    <tr>\n",
       "      <th>2019-01-31</th>\n",
       "      <td>-0.221709</td>\n",
       "      <td>-0.117860</td>\n",
       "      <td>-0.169202</td>\n",
       "      <td>-0.163557</td>\n",
       "      <td>-0.705342</td>\n",
       "      <td>-0.163557</td>\n",
       "    </tr>\n",
       "    <tr>\n",
       "      <th>2019-05-31</th>\n",
       "      <td>-0.140376</td>\n",
       "      <td>-0.134732</td>\n",
       "      <td>-0.134224</td>\n",
       "      <td>-0.140444</td>\n",
       "      <td>1.042966</td>\n",
       "      <td>-0.140444</td>\n",
       "    </tr>\n",
       "    <tr>\n",
       "      <th>2019-09-30</th>\n",
       "      <td>-0.499224</td>\n",
       "      <td>-0.502145</td>\n",
       "      <td>-0.500141</td>\n",
       "      <td>-0.499701</td>\n",
       "      <td>-0.098928</td>\n",
       "      <td>-0.499701</td>\n",
       "    </tr>\n",
       "    <tr>\n",
       "      <th>2020-01-31</th>\n",
       "      <td>-0.136032</td>\n",
       "      <td>-0.167412</td>\n",
       "      <td>-0.157427</td>\n",
       "      <td>-0.149498</td>\n",
       "      <td>1.105923</td>\n",
       "      <td>-0.149498</td>\n",
       "    </tr>\n",
       "    <tr>\n",
       "      <th>2020-05-31</th>\n",
       "      <td>0.337166</td>\n",
       "      <td>0.368362</td>\n",
       "      <td>0.356071</td>\n",
       "      <td>0.352724</td>\n",
       "      <td>-0.214668</td>\n",
       "      <td>0.352724</td>\n",
       "    </tr>\n",
       "    <tr>\n",
       "      <th>2020-09-30</th>\n",
       "      <td>2.832017</td>\n",
       "      <td>2.805283</td>\n",
       "      <td>2.807146</td>\n",
       "      <td>2.847926</td>\n",
       "      <td>1.666945</td>\n",
       "      <td>2.847926</td>\n",
       "    </tr>\n",
       "    <tr>\n",
       "      <th>2021-01-31</th>\n",
       "      <td>1.094809</td>\n",
       "      <td>1.131874</td>\n",
       "      <td>1.105042</td>\n",
       "      <td>1.115382</td>\n",
       "      <td>0.166953</td>\n",
       "      <td>1.115382</td>\n",
       "    </tr>\n",
       "  </tbody>\n",
       "</table>\n",
       "</div>"
      ],
      "text/plain": [
       "                High       Low      Open     Close    Volume  Adj Close\n",
       "Date                                                                   \n",
       "2018-09-30       NaN       NaN       NaN       NaN       NaN        NaN\n",
       "2019-01-31 -0.221709 -0.117860 -0.169202 -0.163557 -0.705342  -0.163557\n",
       "2019-05-31 -0.140376 -0.134732 -0.134224 -0.140444  1.042966  -0.140444\n",
       "2019-09-30 -0.499224 -0.502145 -0.500141 -0.499701 -0.098928  -0.499701\n",
       "2020-01-31 -0.136032 -0.167412 -0.157427 -0.149498  1.105923  -0.149498\n",
       "2020-05-31  0.337166  0.368362  0.356071  0.352724 -0.214668   0.352724\n",
       "2020-09-30  2.832017  2.805283  2.807146  2.847926  1.666945   2.847926\n",
       "2021-01-31  1.094809  1.131874  1.105042  1.115382  0.166953   1.115382"
      ]
     },
     "execution_count": 13,
     "metadata": {},
     "output_type": "execute_result"
    }
   ],
   "source": [
    "quarter.pct_change()"
   ]
  },
  {
   "cell_type": "code",
   "execution_count": 14,
   "metadata": {},
   "outputs": [],
   "source": [
    "daily_pct_change = daily_close / daily_close.shift(1) - 1"
   ]
  },
  {
   "cell_type": "code",
   "execution_count": 15,
   "metadata": {},
   "outputs": [
    {
     "name": "stdout",
     "output_type": "stream",
     "text": [
      "            Adj Close\n",
      "Date                 \n",
      "2018-09-12        NaN\n",
      "2018-09-13   0.757576\n",
      "2018-09-14  -0.146552\n",
      "2018-09-17  -0.141414\n",
      "2018-09-18  -0.096471\n",
      "...               ...\n",
      "2020-11-02   0.089601\n",
      "2020-11-03   0.065426\n",
      "2020-11-04   0.062253\n",
      "2020-11-05   0.123044\n",
      "2020-11-06  -0.017001\n",
      "\n",
      "[544 rows x 1 columns]\n"
     ]
    }
   ],
   "source": [
    "print(daily_pct_change)"
   ]
  },
  {
   "cell_type": "code",
   "execution_count": 16,
   "metadata": {},
   "outputs": [
    {
     "data": {
      "text/plain": [
       "array([[<matplotlib.axes._subplots.AxesSubplot object at 0x7f975a23f370>]],\n",
       "      dtype=object)"
      ]
     },
     "execution_count": 16,
     "metadata": {},
     "output_type": "execute_result"
    },
    {
     "data": {
      "image/png": "[encoded data removed]",
      "text/plain": [
       "<Figure size 432x288 with 1 Axes>"
      ]
     },
     "metadata": {
      "needs_background": "light"
     },
     "output_type": "display_data"
    }
   ],
   "source": [
    "daily_pct_change.hist(bins=50)"
   ]
  },
  {
   "cell_type": "code",
   "execution_count": 17,
   "metadata": {},
   "outputs": [
    {
     "name": "stdout",
     "output_type": "stream",
     "text": [
      "        Adj Close\n",
      "count  543.000000\n",
      "mean     0.005754\n",
      "std      0.072690\n",
      "min     -0.211614\n",
      "25%     -0.031371\n",
      "50%     -0.002088\n",
      "75%      0.032468\n",
      "max      0.757576\n"
     ]
    }
   ],
   "source": [
    "print(daily_pct_change.describe())"
   ]
  },
  {
   "cell_type": "code",
   "execution_count": 18,
   "metadata": {},
   "outputs": [
    {
     "name": "stdout",
     "output_type": "stream",
     "text": [
      "            Adj Close\n",
      "Date                 \n",
      "2018-09-12        NaN\n",
      "2018-09-13   1.757576\n",
      "2018-09-14   1.500000\n",
      "2018-09-17   1.287879\n",
      "2018-09-18   1.163636\n",
      "...               ...\n",
      "2020-11-02   5.048485\n",
      "2020-11-03   5.378788\n",
      "2020-11-04   5.713636\n",
      "2020-11-05   6.416667\n",
      "2020-11-06   6.307576\n",
      "\n",
      "[544 rows x 1 columns]\n"
     ]
    }
   ],
   "source": [
    "cum_daily_return = (1 + daily_pct_change).cumprod()\n",
    "print(cum_daily_return)"
   ]
  },
  {
   "cell_type": "code",
   "execution_count": 19,
   "metadata": {},
   "outputs": [
    {
     "data": {
      "image/png": "[encoded data removed]",
      "text/plain": [
       "<Figure size 864x576 with 1 Axes>"
      ]
     },
     "metadata": {
      "needs_background": "light"
     },
     "output_type": "display_data"
    }
   ],
   "source": [
    "cum_daily_return.plot(figsize=(12,8))\n",
    "plt.show()"
   ]
  },
  {
   "cell_type": "code",
   "execution_count": 20,
   "metadata": {},
   "outputs": [],
   "source": [
    "cum_monthly_return = cum_daily_return.resample('M').mean()"
   ]
  },
  {
   "cell_type": "code",
   "execution_count": 21,
   "metadata": {},
   "outputs": [
    {
     "name": "stdout",
     "output_type": "stream",
     "text": [
      "            Adj Close\n",
      "Date                 \n",
      "2018-09-30   1.268813\n",
      "2018-10-31   1.030698\n",
      "2018-11-30   1.086580\n",
      "2018-12-31   1.046172\n",
      "2019-01-31   1.013997\n",
      "2019-02-28   1.227432\n",
      "2019-03-31   0.994444\n",
      "2019-04-30   0.756782\n",
      "2019-05-31   0.653857\n",
      "2019-06-30   0.402348\n",
      "2019-07-31   0.511708\n",
      "2019-08-31   0.456956\n",
      "2019-09-30   0.417727\n",
      "2019-10-31   0.232345\n",
      "2019-11-30   0.298106\n",
      "2019-12-31   0.390188\n",
      "2020-01-31   0.616955\n",
      "2020-02-29   0.619298\n",
      "2020-03-31   0.466253\n",
      "2020-04-30   0.451371\n",
      "2020-05-31   0.542576\n",
      "2020-06-30   0.982851\n",
      "2020-07-31   1.878650\n",
      "2020-08-31   2.282900\n",
      "2020-09-30   2.858730\n",
      "2020-10-31   3.847865\n",
      "2020-11-30   5.773030\n"
     ]
    }
   ],
   "source": [
    "print(cum_monthly_return)"
   ]
  },
  {
   "cell_type": "code",
   "execution_count": 22,
   "metadata": {},
   "outputs": [],
   "source": [
    "import pandas as pd\n",
    "def get(tickers, startdate, enddate):\n",
    "  def data(ticker):\n",
    "    return (pdr.get_data_yahoo(ticker, start=startdate, end=enddate))\n",
    "  datas = map (data, tickers)\n",
    "  return(pd.concat(datas, keys=tickers, names=['Ticker', 'Date']))\n",
    "\n",
    "tickers = ['TSLA', 'NIO', 'LI', 'XPEV']\n",
    "all_data = get(tickers, datetime.datetime(2020, 1, 1), datetime.datetime(2020, 11, 7))"
   ]
  },
  {
   "cell_type": "code",
   "execution_count": 23,
   "metadata": {},
   "outputs": [],
   "source": [
    "daily_close_px = all_data[['Adj Close']].reset_index().pivot('Date', 'Ticker', 'Adj Close')"
   ]
  },
  {
   "cell_type": "code",
   "execution_count": 24,
   "metadata": {},
   "outputs": [
    {
     "data": {
      "text/plain": [
       "array([[<matplotlib.axes._subplots.AxesSubplot object at 0x7f975a241820>]],\n",
       "      dtype=object)"
      ]
     },
     "execution_count": 24,
     "metadata": {},
     "output_type": "execute_result"
    },
    {
     "data": {
      "image/png": "[encoded data removed]",
      "text/plain": [
       "<Figure size 864x576 with 1 Axes>"
      ]
     },
     "metadata": {
      "needs_background": "light"
     },
     "output_type": "display_data"
    }
   ],
   "source": [
    "daily_pct_change.hist(bins=50, sharex=True, figsize=(12,8))"
   ]
  },
  {
   "cell_type": "code",
   "execution_count": 25,
   "metadata": {},
   "outputs": [],
   "source": [
    "from pandas.plotting import scatter_matrix"
   ]
  },
  {
   "cell_type": "code",
   "execution_count": 26,
   "metadata": {},
   "outputs": [
    {
     "data": {
      "text/plain": [
       "array([[<matplotlib.axes._subplots.AxesSubplot object at 0x7f975a0df4c0>]],\n",
       "      dtype=object)"
      ]
     },
     "execution_count": 26,
     "metadata": {},
     "output_type": "execute_result"
    },
    {
     "data": {
      "image/png": "[encoded data removed]",
      "text/plain": [
       "<Figure size 864x864 with 1 Axes>"
      ]
     },
     "metadata": {
      "needs_background": "light"
     },
     "output_type": "display_data"
    }
   ],
   "source": [
    "scatter_matrix(daily_pct_change, diagonal='kde', alpha=0.1,figsize=(12,12))"
   ]
  },
  {
   "cell_type": "code",
   "execution_count": 27,
   "metadata": {},
   "outputs": [],
   "source": [
    "adj_close_px = nio['Adj Close']"
   ]
  },
  {
   "cell_type": "code",
   "execution_count": 28,
   "metadata": {},
   "outputs": [],
   "source": [
    "moving_avg = adj_close_px.rolling(window=40).mean()"
   ]
  },
  {
   "cell_type": "code",
   "execution_count": 29,
   "metadata": {},
   "outputs": [
    {
     "name": "stdout",
     "output_type": "stream",
     "text": [
      "Date\n",
      "2020-10-26    21.38600\n",
      "2020-10-27    21.62125\n",
      "2020-10-28    21.80600\n",
      "2020-10-29    22.10825\n",
      "2020-10-30    22.40525\n",
      "2020-11-02    22.78875\n",
      "2020-11-03    23.25050\n",
      "2020-11-04    23.74100\n",
      "2020-11-05    24.35625\n",
      "2020-11-06    24.94775\n",
      "Name: Adj Close, dtype: float64\n"
     ]
    }
   ],
   "source": [
    "print(moving_avg[-10:])"
   ]
  },
  {
   "cell_type": "code",
   "execution_count": 30,
   "metadata": {},
   "outputs": [],
   "source": [
    "nio['40'] = adj_close_px.rolling(window=40).mean()"
   ]
  },
  {
   "cell_type": "code",
   "execution_count": 31,
   "metadata": {},
   "outputs": [],
   "source": [
    "nio['252'] = adj_close_px.rolling(window=252).mean()"
   ]
  },
  {
   "cell_type": "code",
   "execution_count": 32,
   "metadata": {},
   "outputs": [
    {
     "data": {
      "text/plain": [
       "<matplotlib.axes._subplots.AxesSubplot at 0x7f975b32b340>"
      ]
     },
     "execution_count": 32,
     "metadata": {},
     "output_type": "execute_result"
    },
    {
     "data": {
      "image/png": "[encoded data removed]",
      "text/plain": [
       "<Figure size 432x288 with 1 Axes>"
      ]
     },
     "metadata": {
      "needs_background": "light"
     },
     "output_type": "display_data"
    }
   ],
   "source": [
    "nio[['Adj Close', '40', '252']].plot()"
   ]
  },
  {
   "cell_type": "code",
   "execution_count": 33,
   "metadata": {},
   "outputs": [
    {
     "data": {
      "image/png": "[encoded data removed]",
      "text/plain": [
       "<Figure size 720x576 with 1 Axes>"
      ]
     },
     "metadata": {
      "needs_background": "light"
     },
     "output_type": "display_data"
    }
   ],
   "source": [
    "min_periods = 75\n",
    "vol = daily_pct_change.rolling(min_periods).std() * np.sqrt(min_periods)\n",
    "vol.plot(figsize=(10,8))\n",
    "plt.show()"
   ]
  },
  {
   "cell_type": "code",
   "execution_count": 34,
   "metadata": {},
   "outputs": [
    {
     "name": "stderr",
     "output_type": "stream",
     "text": [
      "<ipython-input-34-1d445bf43af4>:3: FutureWarning: The pandas.datetime class is deprecated and will be removed from pandas in a future version. Import from datetime module instead.\n",
      "  from pandas import datetime\n"
     ]
    }
   ],
   "source": [
    "# Ordinary Least-Squares Regression (OLS)\n",
    "from statsmodels import api as sm\n",
    "from pandas import datetime\n",
    "all_adj_close = all_data[['Adj Close']]\n",
    "all_returns = np.log(all_adj_close / all_adj_close.shift(1))"
   ]
  },
  {
   "cell_type": "code",
   "execution_count": 35,
   "metadata": {},
   "outputs": [],
   "source": [
    "# Isolate the NIO returns \n",
    "nio_returns = all_returns.iloc[all_returns.index.get_level_values('Ticker') == 'NIO']\n",
    "nio_returns.index = nio_returns.index.droplevel('Ticker')"
   ]
  },
  {
   "cell_type": "code",
   "execution_count": 36,
   "metadata": {},
   "outputs": [],
   "source": [
    "# Isolate the TSLA returns\n",
    "tsla_returns = all_returns.iloc[all_returns.index.get_level_values('Ticker') == 'TSLA']\n",
    "tsla_returns.index = tsla_returns.index.droplevel('Ticker')"
   ]
  },
  {
   "cell_type": "code",
   "execution_count": 37,
   "metadata": {},
   "outputs": [],
   "source": [
    "# Build up a new DataFrame with NIO and TSLA returns\n",
    "return_data = pd.concat([nio_returns, tsla_returns], axis=1)[1:]\n",
    "return_data.columns = ['NIO', 'TSLA']"
   ]
  },
  {
   "cell_type": "code",
   "execution_count": 38,
   "metadata": {},
   "outputs": [
    {
     "name": "stdout",
     "output_type": "stream",
     "text": [
      "                            OLS Regression Results                            \n",
      "==============================================================================\n",
      "Dep. Variable:                   TSLA   R-squared:                       0.189\n",
      "Model:                            OLS   Adj. R-squared:                  0.185\n",
      "Method:                 Least Squares   F-statistic:                     49.64\n",
      "Date:                Sun, 08 Nov 2020   Prob (F-statistic):           2.51e-11\n",
      "Time:                        12:05:59   Log-Likelihood:                 326.32\n",
      "No. Observations:                 215   AIC:                            -648.6\n",
      "Df Residuals:                     213   BIC:                            -641.9\n",
      "Df Model:                           1                                         \n",
      "Covariance Type:            nonrobust                                         \n",
      "==============================================================================\n",
      "                 coef    std err          t      P>|t|      [0.025      0.975]\n",
      "------------------------------------------------------------------------------\n",
      "const          0.0030      0.004      0.808      0.420      -0.004       0.010\n",
      "NIO            0.4007      0.057      7.046      0.000       0.289       0.513\n",
      "==============================================================================\n",
      "Omnibus:                       19.514   Durbin-Watson:                   1.979\n",
      "Prob(Omnibus):                  0.000   Jarque-Bera (JB):               46.252\n",
      "Skew:                          -0.374   Prob(JB):                     9.05e-11\n",
      "Kurtosis:                       5.145   Cond. No.                         15.6\n",
      "==============================================================================\n",
      "\n",
      "Notes:\n",
      "[1] Standard Errors assume that the covariance matrix of the errors is correctly specified.\n"
     ]
    }
   ],
   "source": [
    "# Add a constant and construct the model\n",
    "X = sm.add_constant(return_data['NIO'])\n",
    "model = sm.OLS(return_data['TSLA'],X).fit()\n",
    "print(model.summary())"
   ]
  },
  {
   "cell_type": "code",
   "execution_count": 55,
   "metadata": {},
   "outputs": [
    {
     "data": {
      "image/png": "[encoded data removed]",
      "text/plain": [
       "<Figure size 432x288 with 1 Axes>"
      ]
     },
     "metadata": {
      "needs_background": "light"
     },
     "output_type": "display_data"
    }
   ],
   "source": [
    "plt.plot(return_data['NIO'], return_data['TSLA'], 'r.')\n",
    "ax = plt.axis()\n",
    "x = np.linspace(ax[0], ax[1] + 0.01)\n",
    "plt.plot(x, model.params[0] + model.params[1] * x, 'b', lw=2)\n",
    "plt.grid(True)\n",
    "plt.axis('tight')\n",
    "plt.xlabel('Nio Returns')\n",
    "plt.ylabel('Tesla returns')\n",
    "plt.show()"
   ]
  },
  {
   "cell_type": "code",
   "execution_count": 58,
   "metadata": {},
   "outputs": [
    {
     "data": {
      "image/png": "[encoded data removed]",
      "text/plain": [
       "<Figure size 432x288 with 1 Axes>"
      ]
     },
     "metadata": {
      "needs_background": "light"
     },
     "output_type": "display_data"
    }
   ],
   "source": [
    "return_data['TSLA'].rolling(window=252).corr(return_data['NIO']).plot()\n",
    "plt.show()"
   ]
  },
  {
   "cell_type": "code",
   "execution_count": 59,
   "metadata": {},
   "outputs": [],
   "source": [
    "# Implementing a trading strategy using the Moving Average Crossover\n",
    "short_window = 40\n",
    "long_window = 100"
   ]
  },
  {
   "cell_type": "code",
   "execution_count": 60,
   "metadata": {},
   "outputs": [],
   "source": [
    "signals = pd.DataFrame(index=nio.index)\n",
    "signals['signal'] = 0.0"
   ]
  },
  {
   "cell_type": "code",
   "execution_count": 61,
   "metadata": {},
   "outputs": [],
   "source": [
    "signals['short_mavg'] = nio['Close'].rolling(window=short_window, min_periods=1, center=False).mean()"
   ]
  },
  {
   "cell_type": "code",
   "execution_count": 62,
   "metadata": {},
   "outputs": [],
   "source": [
    "signals['long_mavg'] = nio['Close'].rolling(window=long_window, min_periods=1, center=False).mean()"
   ]
  },
  {
   "cell_type": "code",
   "execution_count": 63,
   "metadata": {},
   "outputs": [],
   "source": [
    "signals['signal'][short_window:] = np.where(signals['short_mavg'][short_window:] \n",
    "                                            > signals['long_mavg'][short_window:], 1.0, 0.0)   "
   ]
  },
  {
   "cell_type": "code",
   "execution_count": 64,
   "metadata": {},
   "outputs": [
    {
     "name": "stdout",
     "output_type": "stream",
     "text": [
      "            signal  short_mavg  long_mavg  positions\n",
      "Date                                                \n",
      "2018-09-12     0.0    6.600000   6.600000        NaN\n",
      "2018-09-13     0.0    9.100000   9.100000        0.0\n",
      "2018-09-14     0.0    9.366667   9.366667        0.0\n",
      "2018-09-17     0.0    9.150000   9.150000        0.0\n",
      "2018-09-18     0.0    8.856000   8.856000        0.0\n",
      "...            ...         ...        ...        ...\n",
      "2020-11-02     1.0   22.788750  16.691700        0.0\n",
      "2020-11-03     1.0   23.250500  16.985700        0.0\n",
      "2020-11-04     1.0   23.741000  17.294500        0.0\n",
      "2020-11-05     1.0   24.356250  17.648100        0.0\n",
      "2020-11-06     1.0   24.947750  17.996000        0.0\n",
      "\n",
      "[544 rows x 4 columns]\n"
     ]
    }
   ],
   "source": [
    "signals['positions'] = signals['signal'].diff()\n",
    "print(signals)"
   ]
  },
  {
   "cell_type": "code",
   "execution_count": 70,
   "metadata": {},
   "outputs": [
    {
     "data": {
      "image/png": "[encoded data removed]",
      "text/plain": [
       "<Figure size 864x576 with 1 Axes>"
      ]
     },
     "metadata": {
      "needs_background": "light"
     },
     "output_type": "display_data"
    }
   ],
   "source": [
    "fig = plt.figure(figsize=(12,8))\n",
    "ax1 = fig.add_subplot(111, ylabel='Price in $')\n",
    "nio['Close'].plot(ax=ax1, color='r', lw=2)\n",
    "signals[['short_mavg', 'long_mavg']].plot(ax=ax1, lw=2.)\n",
    "\n",
    "# Plot the buy signals\n",
    "ax1.plot(signals.loc[signals.positions == 1.0].index, \n",
    "         signals.short_mavg[signals.positions == 1.0],\n",
    "         '^', markersize=10, color='m')\n",
    "\n",
    "# Plot the sell signals\n",
    "ax1.plot(signals.loc[signals.positions == -1.0].index, \n",
    "         signals.short_mavg[signals.positions == -1.0],\n",
    "         'v', markersize=10, color='k')\n",
    "\n",
    "plt.show()"
   ]
  },
  {
   "cell_type": "code",
   "execution_count": 71,
   "metadata": {},
   "outputs": [],
   "source": [
    "# Backtesting by paper trading \n",
    "initial_capital= float(100000.0)\n",
    "positions = pd.DataFrame(index=signals.index).fillna(0.0)\n",
    "positions['NIO'] = 100 * signals['signal']"
   ]
  },
  {
   "cell_type": "code",
   "execution_count": 73,
   "metadata": {},
   "outputs": [],
   "source": [
    "portfolio = positions.multiply(nio['Adj Close'], axis=0)"
   ]
  },
  {
   "cell_type": "code",
   "execution_count": 74,
   "metadata": {},
   "outputs": [],
   "source": [
    "pos_diff = positions.diff()"
   ]
  },
  {
   "cell_type": "code",
   "execution_count": 75,
   "metadata": {},
   "outputs": [],
   "source": [
    "portfolio['holdings'] = (positions.multiply(nio['Adj Close'], axis=0)).sum(axis=1)"
   ]
  },
  {
   "cell_type": "code",
   "execution_count": 76,
   "metadata": {},
   "outputs": [],
   "source": [
    "portfolio['cash'] = initial_capital - (pos_diff.multiply(nio['Adj Close'], axis=0)).sum(axis=1).cumsum()   "
   ]
  },
  {
   "cell_type": "code",
   "execution_count": 77,
   "metadata": {},
   "outputs": [],
   "source": [
    "portfolio['total'] = portfolio['cash'] + portfolio['holdings']"
   ]
  },
  {
   "cell_type": "code",
   "execution_count": 78,
   "metadata": {},
   "outputs": [],
   "source": [
    "portfolio['returns'] = portfolio['total'].pct_change()"
   ]
  },
  {
   "cell_type": "code",
   "execution_count": 79,
   "metadata": {},
   "outputs": [
    {
     "name": "stdout",
     "output_type": "stream",
     "text": [
      "            NIO  holdings      cash     total  returns\n",
      "Date                                                  \n",
      "2018-09-12  0.0       0.0  100000.0  100000.0      NaN\n",
      "2018-09-13  0.0       0.0  100000.0  100000.0      0.0\n",
      "2018-09-14  0.0       0.0  100000.0  100000.0      0.0\n",
      "2018-09-17  0.0       0.0  100000.0  100000.0      0.0\n",
      "2018-09-18  0.0       0.0  100000.0  100000.0      0.0\n"
     ]
    }
   ],
   "source": [
    "print(portfolio.head())"
   ]
  },
  {
   "cell_type": "code",
   "execution_count": 82,
   "metadata": {},
   "outputs": [
    {
     "data": {
      "image/png": "[encoded data removed]",
      "text/plain": [
       "<Figure size 864x576 with 1 Axes>"
      ]
     },
     "metadata": {
      "needs_background": "light"
     },
     "output_type": "display_data"
    }
   ],
   "source": [
    "fig = plt.figure(figsize=(12,8))\n",
    "\n",
    "ax1 = fig.add_subplot(111, ylabel='Portfolio value in $')\n",
    "\n",
    "portfolio['total'].plot(ax=ax1, lw=2.)\n",
    "\n",
    "ax1.plot(portfolio.loc[signals.positions == 1.0].index, \n",
    "         portfolio.total[signals.positions == 1.0],\n",
    "         '^', markersize=10, color='m')\n",
    "ax1.plot(portfolio.loc[signals.positions == -1.0].index, \n",
    "         portfolio.total[signals.positions == -1.0],\n",
    "         'v', markersize=10, color='k')\n",
    "\n",
    "plt.show()"
   ]
  },
  {
   "cell_type": "code",
   "execution_count": 86,
   "metadata": {},
   "outputs": [
    {
     "name": "stdout",
     "output_type": "stream",
     "text": [
      "1.6605536158792018\n"
     ]
    }
   ],
   "source": [
    "returns = portfolio['returns']\n",
    "sharpe_ratio = np.sqrt(252) * (returns.mean() / returns.std())\n",
    "print(sharpe_ratio)"
   ]
  },
  {
   "cell_type": "code",
   "execution_count": 87,
   "metadata": {},
   "outputs": [],
   "source": [
    "window = 252\n",
    "\n",
    "# Calculate the max drawdown in the past window days for each day \n",
    "rolling_max = nio['Adj Close'].rolling(window, min_periods=1).max()\n",
    "daily_drawdown = nio['Adj Close']/rolling_max - 1.0\n",
    "\n",
    "# Calculate the minimum (negative) daily drawdown\n",
    "max_daily_drawdown = daily_drawdown.rolling(window, min_periods=1).min()"
   ]
  },
  {
   "cell_type": "code",
   "execution_count": 88,
   "metadata": {},
   "outputs": [
    {
     "data": {
      "image/png": "[encoded data removed]",
      "text/plain": [
       "<Figure size 432x288 with 1 Axes>"
      ]
     },
     "metadata": {
      "needs_background": "light"
     },
     "output_type": "display_data"
    }
   ],
   "source": [
    "daily_drawdown.plot()\n",
    "max_daily_drawdown.plot()\n",
    "plt.show()"
   ]
  },
  {
   "cell_type": "code",
   "execution_count": 89,
   "metadata": {},
   "outputs": [
    {
     "name": "stdout",
     "output_type": "stream",
     "text": [
      "0.8101103615583578\n"
     ]
    }
   ],
   "source": [
    "# Use CAGR ((EV/BV)1/n−1) to find the constant rate of return \n",
    "days = (nio.index[-1] - nio.index[0]).days\n",
    "\n",
    "# Calculate the CAGR \n",
    "cagr = ((((nio['Adj Close'][-1]) / nio['Adj Close'][1])) ** (365.0/days)) - 1\n",
    "\n",
    "# Print the CAGR\n",
    "print(cagr)"
   ]
  },
  {
   "cell_type": "code",
   "execution_count": null,
   "metadata": {},
   "outputs": [],
   "source": []
  }
 ],
 "metadata": {
  "kernelspec": {
   "display_name": "Python 3",
   "language": "python",
   "name": "python3"
  },
  "language_info": {
   "codemirror_mode": {
    "name": "ipython",
    "version": 3
   },
   "file_extension": ".py",
   "mimetype": "text/x-python",
   "name": "python",
   "nbconvert_exporter": "python",
   "pygments_lexer": "ipython3",
   "version": "3.8.3"
  }
 },
 "nbformat": 4,
 "nbformat_minor": 4
}
